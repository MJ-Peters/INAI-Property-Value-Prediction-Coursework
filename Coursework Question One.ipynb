{
 "cells": [
  {
   "cell_type": "markdown",
   "id": "c96f3237-9a58-4073-81db-1cb6ce9390a1",
   "metadata": {},
   "source": [
    "# 0.0 Data Prep"
   ]
  },
  {
   "cell_type": "markdown",
   "id": "827ef8f2-41c0-45d6-ad59-a86afdc94dee",
   "metadata": {},
   "source": [
    "## Importing Libraries"
   ]
  },
  {
   "cell_type": "code",
   "execution_count": 2,
   "id": "ecc702a2-6c0c-4009-8a2e-61bea6943fd0",
   "metadata": {},
   "outputs": [],
   "source": [
    "import numpy as np\n",
    "import pandas as pd\n",
    "import time\n",
    "import math\n",
    "\n",
    "from sklearn.model_selection import train_test_split\n",
    "from sklearn import metrics\n",
    "from sklearn.preprocessing import MinMaxScaler\n",
    "from sklearn.metrics import mean_squared_error\n",
    "\n",
    "# import torch\n",
    "# import torch.nn as nn\n",
    "# import torch.utils.data as data\n",
    "\n",
    "\n",
    "import seaborn as sns\n",
    "import matplotlib.pyplot as plt\n",
    "from matplotlib.pylab import rcParams\n",
    "import plotly.express as px\n",
    "import plotly.graph_objects as go"
   ]
  },
  {
   "cell_type": "markdown",
   "id": "c3ef8754-e48b-4e55-9904-4db1d6db0e4e",
   "metadata": {},
   "source": [
    "## Load the Data"
   ]
  },
  {
   "cell_type": "code",
   "execution_count": 5,
   "id": "028f1356-37bb-4fcc-abb3-6bff12377d2a",
   "metadata": {},
   "outputs": [
    {
     "name": "stdout",
     "output_type": "stream",
     "text": [
      "(11782, 18)\n"
     ]
    },
    {
     "data": {
      "text/plain": "   SalePrice  YearBuilt  YrSold  MonthSold  Size(sqf)  Floor   \n0        NaN        NaN     NaN        NaN        NaN    NaN  \\\n1   141592.0     2006.0  2007.0        8.0      814.0    3.0   \n2        NaN        NaN     NaN        NaN        NaN    NaN   \n3    51327.0     1985.0  2007.0        8.0      587.0    8.0   \n4        NaN        NaN     NaN        NaN        NaN    NaN   \n\n         AptManageType  N_Parkinglot(Ground)  N_Parkinglot(Basement)   \n0                  NaN                   NaN                     NaN  \\\n1  management_in_trust                 111.0                   184.0   \n2                  NaN                   NaN                     NaN   \n3      self_management                  80.0                    76.0   \n4                  NaN                   NaN                     NaN   \n\n   N_manager  N_elevators          SubwayStation   \n0        NaN          NaN                    NaN  \\\n1        3.0          0.0  Kyungbuk_uni_hospital   \n2        NaN          NaN                    NaN   \n3        2.0          2.0                  Daegu   \n4        NaN          NaN                    NaN   \n\n   N_FacilitiesNearBy(PublicOffice)  N_FacilitiesNearBy(Hospital)   \n0                               NaN                           NaN  \\\n1                               2.0                           1.0   \n2                               NaN                           NaN   \n3                               5.0                           1.0   \n4                               NaN                           NaN   \n\n   N_FacilitiesNearBy(Dpartmentstore)  N_FacilitiesNearBy(Mall)   \n0                                 NaN                       NaN  \\\n1                                 1.0                       1.0   \n2                                 NaN                       NaN   \n3                                 2.0                       1.0   \n4                                 NaN                       NaN   \n\n   N_FacilitiesNearBy(ETC)  N_FacilitiesNearBy(Park)  \n0                      NaN                       NaN  \n1                      1.0                       0.0  \n2                      NaN                       NaN  \n3                      2.0                       1.0  \n4                      NaN                       NaN  ",
      "text/html": "<div>\n<style scoped>\n    .dataframe tbody tr th:only-of-type {\n        vertical-align: middle;\n    }\n\n    .dataframe tbody tr th {\n        vertical-align: top;\n    }\n\n    .dataframe thead th {\n        text-align: right;\n    }\n</style>\n<table border=\"1\" class=\"dataframe\">\n  <thead>\n    <tr style=\"text-align: right;\">\n      <th></th>\n      <th>SalePrice</th>\n      <th>YearBuilt</th>\n      <th>YrSold</th>\n      <th>MonthSold</th>\n      <th>Size(sqf)</th>\n      <th>Floor</th>\n      <th>AptManageType</th>\n      <th>N_Parkinglot(Ground)</th>\n      <th>N_Parkinglot(Basement)</th>\n      <th>N_manager</th>\n      <th>N_elevators</th>\n      <th>SubwayStation</th>\n      <th>N_FacilitiesNearBy(PublicOffice)</th>\n      <th>N_FacilitiesNearBy(Hospital)</th>\n      <th>N_FacilitiesNearBy(Dpartmentstore)</th>\n      <th>N_FacilitiesNearBy(Mall)</th>\n      <th>N_FacilitiesNearBy(ETC)</th>\n      <th>N_FacilitiesNearBy(Park)</th>\n    </tr>\n  </thead>\n  <tbody>\n    <tr>\n      <th>0</th>\n      <td>NaN</td>\n      <td>NaN</td>\n      <td>NaN</td>\n      <td>NaN</td>\n      <td>NaN</td>\n      <td>NaN</td>\n      <td>NaN</td>\n      <td>NaN</td>\n      <td>NaN</td>\n      <td>NaN</td>\n      <td>NaN</td>\n      <td>NaN</td>\n      <td>NaN</td>\n      <td>NaN</td>\n      <td>NaN</td>\n      <td>NaN</td>\n      <td>NaN</td>\n      <td>NaN</td>\n    </tr>\n    <tr>\n      <th>1</th>\n      <td>141592.0</td>\n      <td>2006.0</td>\n      <td>2007.0</td>\n      <td>8.0</td>\n      <td>814.0</td>\n      <td>3.0</td>\n      <td>management_in_trust</td>\n      <td>111.0</td>\n      <td>184.0</td>\n      <td>3.0</td>\n      <td>0.0</td>\n      <td>Kyungbuk_uni_hospital</td>\n      <td>2.0</td>\n      <td>1.0</td>\n      <td>1.0</td>\n      <td>1.0</td>\n      <td>1.0</td>\n      <td>0.0</td>\n    </tr>\n    <tr>\n      <th>2</th>\n      <td>NaN</td>\n      <td>NaN</td>\n      <td>NaN</td>\n      <td>NaN</td>\n      <td>NaN</td>\n      <td>NaN</td>\n      <td>NaN</td>\n      <td>NaN</td>\n      <td>NaN</td>\n      <td>NaN</td>\n      <td>NaN</td>\n      <td>NaN</td>\n      <td>NaN</td>\n      <td>NaN</td>\n      <td>NaN</td>\n      <td>NaN</td>\n      <td>NaN</td>\n      <td>NaN</td>\n    </tr>\n    <tr>\n      <th>3</th>\n      <td>51327.0</td>\n      <td>1985.0</td>\n      <td>2007.0</td>\n      <td>8.0</td>\n      <td>587.0</td>\n      <td>8.0</td>\n      <td>self_management</td>\n      <td>80.0</td>\n      <td>76.0</td>\n      <td>2.0</td>\n      <td>2.0</td>\n      <td>Daegu</td>\n      <td>5.0</td>\n      <td>1.0</td>\n      <td>2.0</td>\n      <td>1.0</td>\n      <td>2.0</td>\n      <td>1.0</td>\n    </tr>\n    <tr>\n      <th>4</th>\n      <td>NaN</td>\n      <td>NaN</td>\n      <td>NaN</td>\n      <td>NaN</td>\n      <td>NaN</td>\n      <td>NaN</td>\n      <td>NaN</td>\n      <td>NaN</td>\n      <td>NaN</td>\n      <td>NaN</td>\n      <td>NaN</td>\n      <td>NaN</td>\n      <td>NaN</td>\n      <td>NaN</td>\n      <td>NaN</td>\n      <td>NaN</td>\n      <td>NaN</td>\n      <td>NaN</td>\n    </tr>\n  </tbody>\n</table>\n</div>"
     },
     "execution_count": 5,
     "metadata": {},
     "output_type": "execute_result"
    }
   ],
   "source": [
    "df = pd.read_csv(\"coursework_fintech.csv\")\n",
    "print(df.shape)\n",
    "df.head()"
   ]
  },
  {
   "cell_type": "code",
   "execution_count": 12,
   "id": "1145c92d-ee8e-4dcf-adfc-4ed052b48108",
   "metadata": {},
   "outputs": [
    {
     "data": {
      "text/plain": "     SalePrice  YearBuilt  YrSold  MonthSold  Size(sqf)  Floor   \n1     141592.0     2006.0  2007.0        8.0      814.0    3.0  \\\n227   185840.0     1986.0  2007.0       12.0     1131.0    5.0   \n213   265486.0     2007.0  2007.0       12.0     1394.0   24.0   \n171    36283.0     1992.0  2007.0       11.0      355.0    4.0   \n169   194690.0     1993.0  2007.0       11.0     2337.0   18.0   \n\n           AptManageType  N_Parkinglot(Ground)  N_Parkinglot(Basement)   \n1    management_in_trust                 111.0                   184.0  \\\n227  management_in_trust                 713.0                     0.0   \n213  management_in_trust                 554.0                   524.0   \n171  management_in_trust                 200.0                     0.0   \n169  management_in_trust                 523.0                   536.0   \n\n     N_manager  N_elevators          SubwayStation   \n1          3.0          0.0  Kyungbuk_uni_hospital  \\\n227        8.0         27.0  Kyungbuk_uni_hospital   \n213        5.0         10.0             Banwoldang   \n171        5.0         10.0              Myung-duk   \n169        8.0         20.0              Myung-duk   \n\n     N_FacilitiesNearBy(PublicOffice)  N_FacilitiesNearBy(Hospital)   \n1                                 2.0                           1.0  \\\n227                               5.0                           1.0   \n213                               2.0                           2.0   \n171                               7.0                           1.0   \n169                               6.0                           2.0   \n\n     N_FacilitiesNearBy(Dpartmentstore)  N_FacilitiesNearBy(Mall)   \n1                                   1.0                       1.0  \\\n227                                 1.0                       0.0   \n213                                 2.0                       2.0   \n171                                 1.0                       1.0   \n169                                 0.0                       1.0   \n\n     N_FacilitiesNearBy(ETC)  N_FacilitiesNearBy(Park)  \n1                        1.0                       0.0  \n227                      1.0                       1.0  \n213                      0.0                       1.0  \n171                      5.0                       1.0  \n169                      5.0                       0.0  ",
      "text/html": "<div>\n<style scoped>\n    .dataframe tbody tr th:only-of-type {\n        vertical-align: middle;\n    }\n\n    .dataframe tbody tr th {\n        vertical-align: top;\n    }\n\n    .dataframe thead th {\n        text-align: right;\n    }\n</style>\n<table border=\"1\" class=\"dataframe\">\n  <thead>\n    <tr style=\"text-align: right;\">\n      <th></th>\n      <th>SalePrice</th>\n      <th>YearBuilt</th>\n      <th>YrSold</th>\n      <th>MonthSold</th>\n      <th>Size(sqf)</th>\n      <th>Floor</th>\n      <th>AptManageType</th>\n      <th>N_Parkinglot(Ground)</th>\n      <th>N_Parkinglot(Basement)</th>\n      <th>N_manager</th>\n      <th>N_elevators</th>\n      <th>SubwayStation</th>\n      <th>N_FacilitiesNearBy(PublicOffice)</th>\n      <th>N_FacilitiesNearBy(Hospital)</th>\n      <th>N_FacilitiesNearBy(Dpartmentstore)</th>\n      <th>N_FacilitiesNearBy(Mall)</th>\n      <th>N_FacilitiesNearBy(ETC)</th>\n      <th>N_FacilitiesNearBy(Park)</th>\n    </tr>\n  </thead>\n  <tbody>\n    <tr>\n      <th>1</th>\n      <td>141592.0</td>\n      <td>2006.0</td>\n      <td>2007.0</td>\n      <td>8.0</td>\n      <td>814.0</td>\n      <td>3.0</td>\n      <td>management_in_trust</td>\n      <td>111.0</td>\n      <td>184.0</td>\n      <td>3.0</td>\n      <td>0.0</td>\n      <td>Kyungbuk_uni_hospital</td>\n      <td>2.0</td>\n      <td>1.0</td>\n      <td>1.0</td>\n      <td>1.0</td>\n      <td>1.0</td>\n      <td>0.0</td>\n    </tr>\n    <tr>\n      <th>227</th>\n      <td>185840.0</td>\n      <td>1986.0</td>\n      <td>2007.0</td>\n      <td>12.0</td>\n      <td>1131.0</td>\n      <td>5.0</td>\n      <td>management_in_trust</td>\n      <td>713.0</td>\n      <td>0.0</td>\n      <td>8.0</td>\n      <td>27.0</td>\n      <td>Kyungbuk_uni_hospital</td>\n      <td>5.0</td>\n      <td>1.0</td>\n      <td>1.0</td>\n      <td>0.0</td>\n      <td>1.0</td>\n      <td>1.0</td>\n    </tr>\n    <tr>\n      <th>213</th>\n      <td>265486.0</td>\n      <td>2007.0</td>\n      <td>2007.0</td>\n      <td>12.0</td>\n      <td>1394.0</td>\n      <td>24.0</td>\n      <td>management_in_trust</td>\n      <td>554.0</td>\n      <td>524.0</td>\n      <td>5.0</td>\n      <td>10.0</td>\n      <td>Banwoldang</td>\n      <td>2.0</td>\n      <td>2.0</td>\n      <td>2.0</td>\n      <td>2.0</td>\n      <td>0.0</td>\n      <td>1.0</td>\n    </tr>\n    <tr>\n      <th>171</th>\n      <td>36283.0</td>\n      <td>1992.0</td>\n      <td>2007.0</td>\n      <td>11.0</td>\n      <td>355.0</td>\n      <td>4.0</td>\n      <td>management_in_trust</td>\n      <td>200.0</td>\n      <td>0.0</td>\n      <td>5.0</td>\n      <td>10.0</td>\n      <td>Myung-duk</td>\n      <td>7.0</td>\n      <td>1.0</td>\n      <td>1.0</td>\n      <td>1.0</td>\n      <td>5.0</td>\n      <td>1.0</td>\n    </tr>\n    <tr>\n      <th>169</th>\n      <td>194690.0</td>\n      <td>1993.0</td>\n      <td>2007.0</td>\n      <td>11.0</td>\n      <td>2337.0</td>\n      <td>18.0</td>\n      <td>management_in_trust</td>\n      <td>523.0</td>\n      <td>536.0</td>\n      <td>8.0</td>\n      <td>20.0</td>\n      <td>Myung-duk</td>\n      <td>6.0</td>\n      <td>2.0</td>\n      <td>0.0</td>\n      <td>1.0</td>\n      <td>5.0</td>\n      <td>0.0</td>\n    </tr>\n  </tbody>\n</table>\n</div>"
     },
     "execution_count": 12,
     "metadata": {},
     "output_type": "execute_result"
    }
   ],
   "source": [
    "# Removing blank rows from the df\n",
    "df = df.dropna()\n",
    "\n",
    "# Sorting the df by the year of sale\n",
    "df = df.sort_values(\"YrSold\", ascending=True)\n",
    "\n",
    "df.head()"
   ]
  },
  {
   "cell_type": "code",
   "execution_count": 13,
   "id": "91194a6e-38cc-4e36-bc84-e1f134c69eff",
   "metadata": {},
   "outputs": [],
   "source": [
    "# Defining the target\n",
    "target = df[\"SalePrice\"]\n",
    "\n",
    "# Defining the features\n",
    "features = df.drop(\"SalePrice\", axis=1)\n",
    "\n",
    "# Split the data into training and testing sets\n",
    "x_train, x_test, y_train, y_test = train_test_split(features, target, test_size=0.2, random_state=0)"
   ]
  },
  {
   "cell_type": "code",
   "execution_count": 14,
   "outputs": [
    {
     "data": {
      "text/plain": "1      141592.0\n227    185840.0\n213    265486.0\n171     36283.0\n169    194690.0\nName: SalePrice, dtype: float64"
     },
     "execution_count": 14,
     "metadata": {},
     "output_type": "execute_result"
    }
   ],
   "source": [
    "target.head()"
   ],
   "metadata": {
    "collapsed": false
   }
  },
  {
   "cell_type": "code",
   "execution_count": 15,
   "outputs": [
    {
     "data": {
      "text/plain": "     YearBuilt  YrSold  MonthSold  Size(sqf)  Floor        AptManageType   \n1       2006.0  2007.0        8.0      814.0    3.0  management_in_trust  \\\n227     1986.0  2007.0       12.0     1131.0    5.0  management_in_trust   \n213     2007.0  2007.0       12.0     1394.0   24.0  management_in_trust   \n171     1992.0  2007.0       11.0      355.0    4.0  management_in_trust   \n169     1993.0  2007.0       11.0     2337.0   18.0  management_in_trust   \n\n     N_Parkinglot(Ground)  N_Parkinglot(Basement)  N_manager  N_elevators   \n1                   111.0                   184.0        3.0          0.0  \\\n227                 713.0                     0.0        8.0         27.0   \n213                 554.0                   524.0        5.0         10.0   \n171                 200.0                     0.0        5.0         10.0   \n169                 523.0                   536.0        8.0         20.0   \n\n             SubwayStation  N_FacilitiesNearBy(PublicOffice)   \n1    Kyungbuk_uni_hospital                               2.0  \\\n227  Kyungbuk_uni_hospital                               5.0   \n213             Banwoldang                               2.0   \n171              Myung-duk                               7.0   \n169              Myung-duk                               6.0   \n\n     N_FacilitiesNearBy(Hospital)  N_FacilitiesNearBy(Dpartmentstore)   \n1                             1.0                                 1.0  \\\n227                           1.0                                 1.0   \n213                           2.0                                 2.0   \n171                           1.0                                 1.0   \n169                           2.0                                 0.0   \n\n     N_FacilitiesNearBy(Mall)  N_FacilitiesNearBy(ETC)   \n1                         1.0                      1.0  \\\n227                       0.0                      1.0   \n213                       2.0                      0.0   \n171                       1.0                      5.0   \n169                       1.0                      5.0   \n\n     N_FacilitiesNearBy(Park)  \n1                         0.0  \n227                       1.0  \n213                       1.0  \n171                       1.0  \n169                       0.0  ",
      "text/html": "<div>\n<style scoped>\n    .dataframe tbody tr th:only-of-type {\n        vertical-align: middle;\n    }\n\n    .dataframe tbody tr th {\n        vertical-align: top;\n    }\n\n    .dataframe thead th {\n        text-align: right;\n    }\n</style>\n<table border=\"1\" class=\"dataframe\">\n  <thead>\n    <tr style=\"text-align: right;\">\n      <th></th>\n      <th>YearBuilt</th>\n      <th>YrSold</th>\n      <th>MonthSold</th>\n      <th>Size(sqf)</th>\n      <th>Floor</th>\n      <th>AptManageType</th>\n      <th>N_Parkinglot(Ground)</th>\n      <th>N_Parkinglot(Basement)</th>\n      <th>N_manager</th>\n      <th>N_elevators</th>\n      <th>SubwayStation</th>\n      <th>N_FacilitiesNearBy(PublicOffice)</th>\n      <th>N_FacilitiesNearBy(Hospital)</th>\n      <th>N_FacilitiesNearBy(Dpartmentstore)</th>\n      <th>N_FacilitiesNearBy(Mall)</th>\n      <th>N_FacilitiesNearBy(ETC)</th>\n      <th>N_FacilitiesNearBy(Park)</th>\n    </tr>\n  </thead>\n  <tbody>\n    <tr>\n      <th>1</th>\n      <td>2006.0</td>\n      <td>2007.0</td>\n      <td>8.0</td>\n      <td>814.0</td>\n      <td>3.0</td>\n      <td>management_in_trust</td>\n      <td>111.0</td>\n      <td>184.0</td>\n      <td>3.0</td>\n      <td>0.0</td>\n      <td>Kyungbuk_uni_hospital</td>\n      <td>2.0</td>\n      <td>1.0</td>\n      <td>1.0</td>\n      <td>1.0</td>\n      <td>1.0</td>\n      <td>0.0</td>\n    </tr>\n    <tr>\n      <th>227</th>\n      <td>1986.0</td>\n      <td>2007.0</td>\n      <td>12.0</td>\n      <td>1131.0</td>\n      <td>5.0</td>\n      <td>management_in_trust</td>\n      <td>713.0</td>\n      <td>0.0</td>\n      <td>8.0</td>\n      <td>27.0</td>\n      <td>Kyungbuk_uni_hospital</td>\n      <td>5.0</td>\n      <td>1.0</td>\n      <td>1.0</td>\n      <td>0.0</td>\n      <td>1.0</td>\n      <td>1.0</td>\n    </tr>\n    <tr>\n      <th>213</th>\n      <td>2007.0</td>\n      <td>2007.0</td>\n      <td>12.0</td>\n      <td>1394.0</td>\n      <td>24.0</td>\n      <td>management_in_trust</td>\n      <td>554.0</td>\n      <td>524.0</td>\n      <td>5.0</td>\n      <td>10.0</td>\n      <td>Banwoldang</td>\n      <td>2.0</td>\n      <td>2.0</td>\n      <td>2.0</td>\n      <td>2.0</td>\n      <td>0.0</td>\n      <td>1.0</td>\n    </tr>\n    <tr>\n      <th>171</th>\n      <td>1992.0</td>\n      <td>2007.0</td>\n      <td>11.0</td>\n      <td>355.0</td>\n      <td>4.0</td>\n      <td>management_in_trust</td>\n      <td>200.0</td>\n      <td>0.0</td>\n      <td>5.0</td>\n      <td>10.0</td>\n      <td>Myung-duk</td>\n      <td>7.0</td>\n      <td>1.0</td>\n      <td>1.0</td>\n      <td>1.0</td>\n      <td>5.0</td>\n      <td>1.0</td>\n    </tr>\n    <tr>\n      <th>169</th>\n      <td>1993.0</td>\n      <td>2007.0</td>\n      <td>11.0</td>\n      <td>2337.0</td>\n      <td>18.0</td>\n      <td>management_in_trust</td>\n      <td>523.0</td>\n      <td>536.0</td>\n      <td>8.0</td>\n      <td>20.0</td>\n      <td>Myung-duk</td>\n      <td>6.0</td>\n      <td>2.0</td>\n      <td>0.0</td>\n      <td>1.0</td>\n      <td>5.0</td>\n      <td>0.0</td>\n    </tr>\n  </tbody>\n</table>\n</div>"
     },
     "execution_count": 15,
     "metadata": {},
     "output_type": "execute_result"
    }
   ],
   "source": [
    "features.head()"
   ],
   "metadata": {
    "collapsed": false
   }
  },
  {
   "cell_type": "markdown",
   "id": "43e5202f-1b91-476f-9855-b28993a0e608",
   "metadata": {},
   "source": [
    "# 1.0 Dummy Regressor"
   ]
  },
  {
   "cell_type": "code",
   "execution_count": 16,
   "id": "e08deb24-a798-4954-b82f-8d5fbd449437",
   "metadata": {},
   "outputs": [
    {
     "name": "stdout",
     "output_type": "stream",
     "text": [
      "Root Mean Squared Error: 107302.22\n",
      "Mean squared error:  11513766836.494812\n"
     ]
    }
   ],
   "source": [
    "from sklearn.dummy import DummyRegressor\n",
    "\n",
    "# Create a dummy regressor object\n",
    "dummy_regr = DummyRegressor(strategy=\"mean\")\n",
    "\n",
    "# Fit the dummy regressor to the training data\n",
    "dummy_regr.fit(x_train, y_train)\n",
    "\n",
    "# Make predictions on the test data\n",
    "y_pred = dummy_regr.predict(x_test)\n",
    "\n",
    "# Evaluate the model using mean squared error and root mean squared error\n",
    "dummy_mse = mean_squared_error(y_test, y_pred)\n",
    "dummy_rmse = np.sqrt(dummy_mse)\n",
    "\n",
    "print(\"Root Mean Squared Error: {:.2f}\".format(dummy_rmse))\n",
    "print(\"Mean squared error: \", dummy_mse)\n"
   ]
  },
  {
   "cell_type": "markdown",
   "id": "0157f94a-6bec-4b4b-9ccb-a4144e68bfca",
   "metadata": {},
   "source": [
    "# 2.0 Decision Tree Regression"
   ]
  },
  {
   "cell_type": "code",
   "execution_count": null,
   "id": "dccd4a41-6304-4ba9-987c-10b3a545a4da",
   "metadata": {},
   "outputs": [],
   "source": [
    "\n"
   ]
  },
  {
   "cell_type": "markdown",
   "id": "6eb596e5-2ac0-458d-897b-e1084b092c83",
   "metadata": {},
   "source": [
    "# 3.0 Long Short Term Memory"
   ]
  },
  {
   "cell_type": "code",
   "execution_count": null,
   "id": "e435d773-10ee-4cc3-85e3-5edf6b0c4923",
   "metadata": {},
   "outputs": [],
   "source": []
  }
 ],
 "metadata": {
  "kernelspec": {
   "display_name": "Python 3 (ipykernel)",
   "language": "python",
   "name": "python3"
  },
  "language_info": {
   "codemirror_mode": {
    "name": "ipython",
    "version": 3
   },
   "file_extension": ".py",
   "mimetype": "text/x-python",
   "name": "python",
   "nbconvert_exporter": "python",
   "pygments_lexer": "ipython3",
   "version": "3.9.12"
  }
 },
 "nbformat": 4,
 "nbformat_minor": 5
}
